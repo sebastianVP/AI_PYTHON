{
 "cells": [
  {
   "cell_type": "markdown",
   "id": "a8516502-1daf-4f01-aef4-9ac81a558496",
   "metadata": {},
   "source": [
    "## **MISTRAL AI**"
   ]
  },
  {
   "cell_type": "code",
   "execution_count": 1,
   "id": "c30f7e6e-98f4-44a3-8aed-66f15b658878",
   "metadata": {},
   "outputs": [
    {
     "name": "stdout",
     "output_type": "stream",
     "text": [
      "Requirement already satisfied: mistralai in c:\\users\\soporte\\anaconda3\\lib\\site-packages (1.9.10)\n",
      "Requirement already satisfied: eval-type-backport>=0.2.0 in c:\\users\\soporte\\anaconda3\\lib\\site-packages (from mistralai) (0.2.2)\n",
      "Requirement already satisfied: httpx>=0.28.1 in c:\\users\\soporte\\anaconda3\\lib\\site-packages (from mistralai) (0.28.1)\n",
      "Requirement already satisfied: invoke<3.0.0,>=2.2.0 in c:\\users\\soporte\\anaconda3\\lib\\site-packages (from mistralai) (2.2.0)\n",
      "Requirement already satisfied: pydantic>=2.10.3 in c:\\users\\soporte\\anaconda3\\lib\\site-packages (from mistralai) (2.10.3)\n",
      "Requirement already satisfied: python-dateutil>=2.8.2 in c:\\users\\soporte\\anaconda3\\lib\\site-packages (from mistralai) (2.9.0.post0)\n",
      "Requirement already satisfied: pyyaml<7.0.0,>=6.0.2 in c:\\users\\soporte\\anaconda3\\lib\\site-packages (from mistralai) (6.0.2)\n",
      "Requirement already satisfied: typing-inspection>=0.4.0 in c:\\users\\soporte\\anaconda3\\lib\\site-packages (from mistralai) (0.4.1)\n",
      "Requirement already satisfied: anyio in c:\\users\\soporte\\anaconda3\\lib\\site-packages (from httpx>=0.28.1->mistralai) (4.7.0)\n",
      "Requirement already satisfied: certifi in c:\\users\\soporte\\anaconda3\\lib\\site-packages (from httpx>=0.28.1->mistralai) (2025.4.26)\n",
      "Requirement already satisfied: httpcore==1.* in c:\\users\\soporte\\anaconda3\\lib\\site-packages (from httpx>=0.28.1->mistralai) (1.0.9)\n",
      "Requirement already satisfied: idna in c:\\users\\soporte\\anaconda3\\lib\\site-packages (from httpx>=0.28.1->mistralai) (3.7)\n",
      "Requirement already satisfied: h11>=0.16 in c:\\users\\soporte\\anaconda3\\lib\\site-packages (from httpcore==1.*->httpx>=0.28.1->mistralai) (0.16.0)\n",
      "Requirement already satisfied: annotated-types>=0.6.0 in c:\\users\\soporte\\anaconda3\\lib\\site-packages (from pydantic>=2.10.3->mistralai) (0.6.0)\n",
      "Requirement already satisfied: pydantic-core==2.27.1 in c:\\users\\soporte\\anaconda3\\lib\\site-packages (from pydantic>=2.10.3->mistralai) (2.27.1)\n",
      "Requirement already satisfied: typing-extensions>=4.12.2 in c:\\users\\soporte\\anaconda3\\lib\\site-packages (from pydantic>=2.10.3->mistralai) (4.12.2)\n",
      "Requirement already satisfied: six>=1.5 in c:\\users\\soporte\\anaconda3\\lib\\site-packages (from python-dateutil>=2.8.2->mistralai) (1.17.0)\n",
      "Requirement already satisfied: sniffio>=1.1 in c:\\users\\soporte\\anaconda3\\lib\\site-packages (from anyio->httpx>=0.28.1->mistralai) (1.3.0)\n"
     ]
    }
   ],
   "source": [
    "!pip install mistralai"
   ]
  },
  {
   "cell_type": "code",
   "execution_count": 10,
   "id": "ded20068-4f15-410b-9d29-c1dbeeb7ed7b",
   "metadata": {},
   "outputs": [
    {
     "name": "stdout",
     "output_type": "stream",
     "text": [
      "The \"best\" French cheese is highly subjective—it depends on personal taste, texture preferences, and how you plan to enjoy it (on a cheese board, melted, in cooking, etc.). However, here are some of the most celebrated and iconic French cheeses, each with its own unique appeal:\n",
      "\n",
      "### **Top Contenders for \"Best\" French Cheese**\n",
      "1. **Comté** (AOP)\n",
      "   - **Why?** A versatile, nutty, and slightly sweet Alpine cheese with complex flavors that evolve with aging (from mild at 4–8 months to crystalline and caramelized at 24+ months).\n",
      "   - **Best for:** Cheese boards, fondue, sandwiches (like a *croque-monsieur*), or grating over dishes.\n",
      "   - **Fun fact:** Each wheel is unique, reflecting the terroir of the Jura mountains.\n",
      "\n",
      "2. **Roquefort** (AOP)\n",
      "   - **Why?** The \"King of Blues\"—creamy, tangy, and salty with a bold blue-mold punch. Made from raw sheep’s milk and aged in natural caves.\n",
      "   - **Best for:** Spread on bread with honey or walnuts, in salads, or crumbled over steak.\n",
      "   - **Fun fact:** One of the oldest cheeses in France (mentioned by Pliny the Elder in 79 AD).\n",
      "\n",
      "3. **Camembert de Normandie** (AOP)\n",
      "   - **Why?** The quintessential French cheese—creamy, buttery, and earthy with a bloomy rind. Legend says it was a favorite of Napoleon III.\n",
      "   - **Best for:** Baked (*Camembert au four*), with crusty bread, or paired with cider.\n",
      "   - **Fun fact:** The wooden box it’s sold in was designed for easy transport during WWI.\n",
      "\n",
      "4. **Époisses de Bourgogne** (AOP)\n",
      "   - **Why?** A pungent, runny, and intensely flavorful washed-rind cheese (washed in Marc de Bourgogne brandy). Napoleon called it the \"King of Cheeses.\"\n",
      "   - **Best for:** Spreading on bread or pairing with Burgundy wine (but beware—it’s *stinky*!).\n",
      "   - **Fun fact:** Banned from French public transport due to its strong odor.\n",
      "\n",
      "5. **Reblochon** (AOP)\n",
      "   - **Why?** The star of *tartiflette*—creamy, nutty, and slightly fruity with a washed rind. Made in the Alps from raw cow’s milk.\n",
      "   - **Best for:** Melting into dishes (like *tartiflette* or *croûte aux fromages*).\n",
      "   - **Fun fact:** Its name comes from *re-blocher* (\"to re-milk\"), referring to a historical tax-dodging trick by farmers.\n",
      "\n",
      "6. **Brie de Meaux** (AOP)\n",
      "   - **Why?** The \"Queen of Cheeses\" (as declared at the Congress of Vienna in 1815). Rich, buttery, and mushroomy with a velvety rind.\n",
      "   - **Best for:** Cheese plates, baked Brie, or with champagne.\n",
      "   - **Fun fact:** It was a favorite of Louis XVI and Marie Antoinette.\n",
      "\n",
      "7. **Beaufort** (AOP)\n",
      "   - **Why?** A firmer, sweeter Alpine cheese (like a refined Gruyère) with floral and caramel notes. Aged 6–24 months.\n",
      "   - **Best for:** Fondue, gratins, or shaving over salads.\n",
      "   - **Fun fact:** Made in the Beaufortain valley, where cows graze on wildflowers.\n",
      "\n",
      "8. **Pélardon** (AOP)\n",
      "   - **Why?** A small, tangy goat cheese from the Cévennes or Provence. Comes in fresh, semi-aged, or dried versions.\n",
      "   - **Best for:** Salads, tapenades, or grilled with herbs.\n",
      "   - **Fun fact:** One of the oldest French cheeses, dating back to Roman times.\n",
      "\n",
      "9. **Munster (or Munster-Géromé)** (AOP)\n",
      "   - **Why?** A strong, pungent washed-rind cheese from Alsace with a creamy, almost meaty flavor.\n",
      "   - **Best for:** Melting on potatoes or pairing with Gewürztraminer wine.\n",
      "   - **Fun fact:** Monks originally made it in the Munster Valley (hence the name).\n",
      "\n",
      "10. **Bleu d’Auvergne** (AOP)\n",
      "   - **Why?** A creamy, spicy blue cheese with a sharper taste than Roquefort (made from cow’s milk).\n",
      "   - **Best for:** Sauces, burgers, or dessert with pears.\n",
      "   - **Fun fact:** Invented in the 19th century by a farmer who added rye bread mold to his curds.\n",
      "\n",
      "### **How to Choose?**\n",
      "- **Mild & creamy?** Comté, Brie, or Camembert.\n",
      "- **Bold & stinky?** Époisses, Munster, or Pont-l’Évêque.\n",
      "- **Blue cheese lover?** Roquefort or Bleu d’Auvergne.\n",
      "- **For cooking?** Beaufort, Reblochon, or Cantal.\n",
      "- **Goat cheese fan?** Pélardon, Crottin de Chavignol, or Valençay.\n",
      "\n",
      "### **Pro Tip:**\n",
      "Visit a *fromagerie* (cheese shop) in France and ask for a *plateau de fromages* (cheese board) with a mix of textures (soft, hard, blue, goat). Pair with wine (e.g., Sauternes with blue cheese, Burgundy with Époisses, or Champagne with Brie).\n",
      "\n",
      "**Final Verdict:** If forced to pick one \"best,\" **Comté** (for versatility) or **Roquefort** (for bold flavor) are top contenders—but the beauty of French cheese is in its diversity! What’s your favorite?\n"
     ]
    }
   ],
   "source": [
    "import os\n",
    "from dotenv import load_dotenv\n",
    "from mistralai import Mistral\n",
    "load_dotenv('.env', override=True)\n",
    "api_key = os.getenv('MISTRAL_API_KEY')\n",
    "\n",
    "model = \"mistral-large-latest\"\n",
    "\n",
    "client = Mistral(api_key=api_key)\n",
    "\n",
    "chat_response = client.chat.complete(\n",
    "    model= model,\n",
    "    messages = [\n",
    "        {\n",
    "            \"role\": \"user\",\n",
    "            \"content\": \"What is the best French cheese?\",\n",
    "        },\n",
    "    ]\n",
    ")\n",
    "print(chat_response.choices[0].message.content)"
   ]
  },
  {
   "cell_type": "code",
   "execution_count": 1,
   "id": "1b71d364-bf35-472b-a0a0-c64fcf9fd52b",
   "metadata": {},
   "outputs": [],
   "source": [
    "from helper import load_mistral_api_key\n",
    "load_mistral_api_key()\n"
   ]
  },
  {
   "cell_type": "code",
   "execution_count": 2,
   "id": "561e19fd-06ab-4258-9bb7-6ec63ae78f35",
   "metadata": {},
   "outputs": [
    {
     "data": {
      "text/plain": [
       "'Hello! I can help with a wide range of tasks, including:\\n\\n- **Answering Questions**: General knowledge, science, history, technology, and more.\\n- **Writing Assistance**: Essays, articles, emails, stories, and creative writing.\\n- **Coding Help**: Debugging, explaining code, or writing snippets in Python, JavaScript, Java, etc.\\n- **Learning & Education**: Explaining concepts, study guides, or practice problems.\\n- **Productivity Tips**: Time management, organization, and workflow advice.\\n- **Recommendations**: Books, movies, music, tools, and apps.\\n- **Language Translation & Grammar Checks**: Basic translations and proofreading.\\n- **Math & Problem-Solving**: Algebra, calculus, logic puzzles, and more.\\n\\nJust let me know what you need, and I’ll do my best to assist! 😊'"
      ]
     },
     "execution_count": 2,
     "metadata": {},
     "output_type": "execute_result"
    }
   ],
   "source": [
    "from helper import mistral_magic\n",
    "mistral_magic(\"hello, what can you do?\")"
   ]
  },
  {
   "cell_type": "markdown",
   "id": "524bbf0e-2c7c-4451-a293-479ebeedb6ef",
   "metadata": {
    "jp-MarkdownHeadingCollapsed": true
   },
   "source": [
    "* role play\n",
    "* few shot learning\n",
    "*  we use ### ### pr <<<>>> to specify the bounday between different sections of the text"
   ]
  },
  {
   "cell_type": "markdown",
   "id": "15065693-8150-4b1d-a960-8cad536f6755",
   "metadata": {},
   "source": [
    "## **WHAT CAN I DO?**\n",
    "### PROMPTING\n",
    "    * CLASSIFICATION\n",
    "    * INFORMATION EXTRACTION\n",
    "    * PERSONALIZATION\n",
    "### Function Calling\n",
    "### RAG from Scratch\n",
    "### Chatbot"
   ]
  },
  {
   "cell_type": "markdown",
   "id": "94ff8d08-59d2-415c-96f8-7e6b8ef1cff5",
   "metadata": {},
   "source": [
    "<p style=\"background-color:#fff6e4; padding:15px; border-width:3px; border-color:#f5ecda; border-style:solid; border-radius:6px\"> ⏳ <b>Note <code>(Kernel Starting)</code>:</b> This notebook takes about 30 seconds to be ready to use. You may start and watch the video while you wait.</p>"
   ]
  },
  {
   "cell_type": "markdown",
   "id": "be187863-eee0-4409-b83f-cc9a2755ec2f",
   "metadata": {},
   "source": [
    "<div style=\"background-color:#fff6ff; padding:13px; border-width:3px; border-color:#efe6ef; border-style:solid; border-radius:6px\">\n",
    "<p> 💻 &nbsp; <b>Access <code>requirements.txt</code> and <code>helper.py</code> files:</b> 1) click on the <em>\"File\"</em> option on the top menu of the notebook and then 2) click on <em>\"Open\"</em>.\n",
    "\n",
    "<p> ⬇ &nbsp; <b>Download Notebooks:</b> 1) click on the <em>\"File\"</em> option on the top menu of the notebook and then 2) click on <em>\"Download as\"</em> and select <em>\"Notebook (.ipynb)\"</em>.</p>\n",
    "</div>"
   ]
  },
  {
   "cell_type": "code",
   "execution_count": null,
   "id": "1b58adf8-6583-4ec6-91d1-0968c073524e",
   "metadata": {},
   "outputs": [],
   "source": []
  }
 ],
 "metadata": {
  "kernelspec": {
   "display_name": "Python 3 (ipykernel)",
   "language": "python",
   "name": "python3"
  },
  "language_info": {
   "codemirror_mode": {
    "name": "ipython",
    "version": 3
   },
   "file_extension": ".py",
   "mimetype": "text/x-python",
   "name": "python",
   "nbconvert_exporter": "python",
   "pygments_lexer": "ipython3",
   "version": "3.13.5"
  }
 },
 "nbformat": 4,
 "nbformat_minor": 5
}
