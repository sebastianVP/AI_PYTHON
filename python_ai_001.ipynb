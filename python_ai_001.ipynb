{
 "cells": [
  {
   "cell_type": "markdown",
   "id": "5cb04893-d893-419c-bfd0-8bd330eacc36",
   "metadata": {},
   "source": [
    "# **AI Python For Beginners**"
   ]
  },
  {
   "cell_type": "markdown",
   "id": "4a5231f3-101c-4218-95c2-0f303e7c16bc",
   "metadata": {},
   "source": [
    "## **Lesson 3: Navigate the learning platform**"
   ]
  },
  {
   "cell_type": "code",
   "execution_count": 7,
   "id": "a5ab7063-d47d-42ee-b6c3-8692ebda1e9f",
   "metadata": {},
   "outputs": [
    {
     "name": "stdout",
     "output_type": "stream",
     "text": [
      "Hello World :)\n"
     ]
    }
   ],
   "source": [
    "print(\"Hello World :)\")"
   ]
  },
  {
   "cell_type": "code",
   "execution_count": null,
   "id": "3075f603-4580-4fd8-a237-d3c15a3eaba1",
   "metadata": {},
   "outputs": [],
   "source": []
  }
 ],
 "metadata": {
  "kernelspec": {
   "display_name": "Python [conda env:base] *",
   "language": "python",
   "name": "conda-base-py"
  },
  "language_info": {
   "codemirror_mode": {
    "name": "ipython",
    "version": 3
   },
   "file_extension": ".py",
   "mimetype": "text/x-python",
   "name": "python",
   "nbconvert_exporter": "python",
   "pygments_lexer": "ipython3",
   "version": "3.12.7"
  }
 },
 "nbformat": 4,
 "nbformat_minor": 5
}
